{
 "cells": [
  {
   "cell_type": "code",
   "execution_count": 29,
   "id": "21f21d18",
   "metadata": {},
   "outputs": [],
   "source": [
    "import torch\n",
    "from torch import nn\n",
    "from typing import List"
   ]
  },
  {
   "cell_type": "code",
   "execution_count": 39,
   "id": "3ecc4761",
   "metadata": {},
   "outputs": [],
   "source": [
    "class BPETokenizer:\n",
    "    def __init__(self):\n",
    "        self.itos = {}\n",
    "        self.stoi = {}\n",
    "        self.vocab_size = 0\n",
    "        self.max_key = 0\n",
    "        self.merges = {}\n",
    "    \n",
    "    def train(self, text_corpus: str, vocab_size: int):\n",
    "        self.vocab_size = vocab_size\n",
    "        text_corpus_set = set(text_corpus)\n",
    "        text_corpus_unique = sorted(text_corpus_set)\n",
    "\n",
    "        for ch in text_corpus_unique:\n",
    "            self.stoi[ch] = self.max_key\n",
    "            self.itos[self.max_key] = ch\n",
    "            self.max_key += 1\n",
    "\n",
    "        text_idx = [self.stoi[ch] for ch in text_corpus]\n",
    "\n",
    "        # i = 0\n",
    "        while self.max_key < vocab_size:\n",
    "            # if i == 1:\n",
    "            #     break\n",
    "            pair_count = {}\n",
    "            for i1, i2 in zip(text_idx, text_idx[1:]):\n",
    "                pair_count[(i1, i2)] = pair_count.get((i1, i2), 0) + 1\n",
    "\n",
    "            max_pair = max(pair_count, key=lambda pair: pair_count[pair])\n",
    "            print(max_pair) # DEBUG\n",
    "            new_text_idx = []\n",
    "\n",
    "            i = 0\n",
    "            while i < len(text_idx)-1:\n",
    "                if (text_idx[i], text_idx[i+1]) == max_pair:\n",
    "                    new_text_idx.append(self.max_key)\n",
    "                    i += 2\n",
    "                else:\n",
    "                    new_text_idx.append(text_idx[i])\n",
    "                    i += 1\n",
    "            \n",
    "            merged_pair = self.itos[max_pair[0]] + self.itos[max_pair[1]]\n",
    "            self.itos[self.max_key] = merged_pair\n",
    "            self.stoi[merged_pair] = self.max_key\n",
    "\n",
    "            self.merges[max_pair] = self.max_key\n",
    "            self.max_key += 1\n",
    "            text_idx = new_text_idx\n",
    "\n",
    "            # print(pair_count)\n",
    "            # print(max(pair_count.items(), key=lambda item: item[1]))\n",
    "            # i += 1\n",
    "\n",
    "        self.final_vocab = sorted(self.stoi.items(), key=lambda item: len(item[0]), reverse=True)\n",
    "    \n",
    "    def encode(self, text: str):\n",
    "        encoded_idx = []\n",
    "        rem_text = text\n",
    "\n",
    "        while rem_text:\n",
    "            for substr, subkey in self.final_vocab:\n",
    "                if rem_text.startswith(substr):\n",
    "                    encoded_idx.append(subkey)\n",
    "                    rem_text = rem_text[len(substr):]\n",
    "                    break\n",
    "        \n",
    "        return encoded_idx\n",
    "\n",
    "    def decode(self, idx: List[int]):\n",
    "        return \"\".join(self.itos[i] for i in idx)\n"
   ]
  },
  {
   "cell_type": "code",
   "execution_count": 40,
   "id": "c451fc83",
   "metadata": {},
   "outputs": [],
   "source": [
    "sample_text = \"The Dursleys had everything they wanted, but they also had a secret, and their greatest fear was that somebody would discover it. They didn’t think they could bear it if anyone found out about the Potters. Mrs. Potter was Mrs. Dursley’s sister, but they hadn’t met for several years; in fact, Mrs. Dursley pretended she didn’t have a sister, because her sister and her good-for-nothing husband were as unDursleyish as it was possible to be. The Dursleys shuddered to think what the neighbors would say if the Potters arrived in the street. The Dursleys knew that the Potters had a small son, too, but they had never even seen him. This boy was another good reason for keeping the Potters away; they didn’t want Dudley mixing with a child like that.\""
   ]
  },
  {
   "cell_type": "code",
   "execution_count": 41,
   "id": "d91ff7d9",
   "metadata": {},
   "outputs": [
    {
     "name": "stdout",
     "output_type": "stream",
     "text": [
      "(26, 16)\n",
      "(0, 33)\n",
      "(13, 24)\n",
      "(13, 0)\n",
      "(12, 0)\n",
      "(13, 31)\n",
      "(25, 0)\n",
      "(24, 25)\n",
      "(26, 0)\n",
      "(38, 0)\n",
      "(17, 21)\n",
      "(3, 0)\n",
      "(26, 35)\n",
      "(5, 27)\n",
      "(16, 9)\n",
      "(29, 9)\n",
      "(1, 0)\n",
      "(26, 34)\n",
      "(0, 25)\n",
      "(46, 40)\n",
      "(52, 19)\n",
      "(22, 27)\n",
      "(8, 16)\n",
      "(53, 38)\n",
      "(24, 13)\n",
      "(9, 21)\n",
      "(17, 25)\n",
      "(7, 22)\n",
      "(60, 26)\n",
      "(61, 45)\n",
      "(47, 37)\n",
      "(13, 28)\n",
      "(49, 10)\n",
      "(24, 0)\n",
      "(35, 0)\n",
      "(44, 55)\n",
      "(36, 62)\n"
     ]
    }
   ],
   "source": [
    "tok = BPETokenizer()\n",
    "tok.train(sample_text, 70)"
   ]
  },
  {
   "cell_type": "code",
   "execution_count": 43,
   "id": "77bd3753",
   "metadata": {},
   "outputs": [
    {
     "data": {
      "text/plain": [
       "[('e Potter', 69),\n",
       " ('Dursley', 56),\n",
       " ('Potter', 62),\n",
       " ('Dursl', 53),\n",
       " ('t th', 50),\n",
       " ('Durs', 52),\n",
       " ('had ', 63),\n",
       " ('. Th', 68),\n",
       " (' th', 34),\n",
       " ('ey ', 42),\n",
       " ('ter', 45),\n",
       " ('Pot', 61),\n",
       " (', b', 65),\n",
       " ('er ', 67),\n",
       " ('th', 33),\n",
       " ('er', 35),\n",
       " ('e ', 36),\n",
       " ('d ', 37),\n",
       " ('ey', 38),\n",
       " ('s ', 39),\n",
       " ('rs', 40),\n",
       " ('t ', 41),\n",
       " ('in', 43),\n",
       " ('. ', 44),\n",
       " ('Du', 46),\n",
       " ('ha', 47),\n",
       " ('wa', 48),\n",
       " (', ', 49),\n",
       " (' s', 51),\n",
       " ('ou', 54),\n",
       " ('Th', 55),\n",
       " ('re', 57),\n",
       " ('an', 58),\n",
       " ('is', 59),\n",
       " ('Po', 60),\n",
       " ('ev', 64),\n",
       " ('r ', 66),\n",
       " (' ', 0),\n",
       " (',', 1),\n",
       " ('-', 2),\n",
       " ('.', 3),\n",
       " (';', 4),\n",
       " ('D', 5),\n",
       " ('M', 6),\n",
       " ('P', 7),\n",
       " ('T', 8),\n",
       " ('a', 9),\n",
       " ('b', 10),\n",
       " ('c', 11),\n",
       " ('d', 12),\n",
       " ('e', 13),\n",
       " ('f', 14),\n",
       " ('g', 15),\n",
       " ('h', 16),\n",
       " ('i', 17),\n",
       " ('k', 18),\n",
       " ('l', 19),\n",
       " ('m', 20),\n",
       " ('n', 21),\n",
       " ('o', 22),\n",
       " ('p', 23),\n",
       " ('r', 24),\n",
       " ('s', 25),\n",
       " ('t', 26),\n",
       " ('u', 27),\n",
       " ('v', 28),\n",
       " ('w', 29),\n",
       " ('x', 30),\n",
       " ('y', 31),\n",
       " ('’', 32)]"
      ]
     },
     "execution_count": 43,
     "metadata": {},
     "output_type": "execute_result"
    }
   ],
   "source": [
    "tok.final_vocab"
   ]
  },
  {
   "cell_type": "code",
   "execution_count": 44,
   "id": "a655f309",
   "metadata": {},
   "outputs": [
    {
     "ename": "KeyboardInterrupt",
     "evalue": "",
     "output_type": "error",
     "traceback": [
      "\u001b[31m---------------------------------------------------------------------------\u001b[39m",
      "\u001b[31mKeyboardInterrupt\u001b[39m                         Traceback (most recent call last)",
      "\u001b[36mCell\u001b[39m\u001b[36m \u001b[39m\u001b[32mIn[44]\u001b[39m\u001b[32m, line 1\u001b[39m\n\u001b[32m----> \u001b[39m\u001b[32m1\u001b[39m \u001b[43mtok\u001b[49m\u001b[43m.\u001b[49m\u001b[43mencode\u001b[49m\u001b[43m(\u001b[49m\u001b[33;43m\"\u001b[39;49m\u001b[33;43mhello harry potter, my name is Salazar Slytherin!\u001b[39;49m\u001b[33;43m\"\u001b[39;49m\u001b[43m)\u001b[49m\n",
      "\u001b[36mCell\u001b[39m\u001b[36m \u001b[39m\u001b[32mIn[39]\u001b[39m\u001b[32m, line 62\u001b[39m, in \u001b[36mBPETokenizer.encode\u001b[39m\u001b[34m(self, text)\u001b[39m\n\u001b[32m     60\u001b[39m \u001b[38;5;28;01mwhile\u001b[39;00m rem_text:\n\u001b[32m     61\u001b[39m     \u001b[38;5;28;01mfor\u001b[39;00m substr, subkey \u001b[38;5;129;01min\u001b[39;00m \u001b[38;5;28mself\u001b[39m.final_vocab:\n\u001b[32m---> \u001b[39m\u001b[32m62\u001b[39m         \u001b[38;5;28;01mif\u001b[39;00m \u001b[43mrem_text\u001b[49m\u001b[43m.\u001b[49m\u001b[43mstartswith\u001b[49m\u001b[43m(\u001b[49m\u001b[43msubstr\u001b[49m\u001b[43m)\u001b[49m:\n\u001b[32m     63\u001b[39m             encoded_idx.append(subkey)\n\u001b[32m     64\u001b[39m             rem_text = rem_text[\u001b[38;5;28mlen\u001b[39m(substr):]\n",
      "\u001b[31mKeyboardInterrupt\u001b[39m: "
     ]
    }
   ],
   "source": [
    "tok.encode(\"hello harry potter, my name is Salazar Slytherin!\")"
   ]
  },
  {
   "cell_type": "code",
   "execution_count": 42,
   "id": "54aa188d",
   "metadata": {},
   "outputs": [
    {
     "data": {
      "text/plain": [
       "('t', 'h')"
      ]
     },
     "execution_count": 42,
     "metadata": {},
     "output_type": "execute_result"
    }
   ],
   "source": [
    "d = {('T', 'h'): 5, ('h', 'e'): 21, ('e', ' '): 16, (' ', 'D'): 6, ('D', 'u'): 7, ('u', 'r'): 6, ('r', 's'): 15, ('s', 'l'): 6, ('l', 'e'): 8, ('e', 'y'): 14, ('y', 's'): 3, ('s', ' '): 15, (' ', 'h'): 10, ('h', 'a'): 10, ('a', 'd'): 5, ('d', ' '): 16, (' ', 'e'): 2, ('e', 'v'): 4, ('v', 'e'): 7, ('e', 'r'): 17, ('r', 'y'): 1, ('y', 't'): 1, ('t', 'h'): 22, ('h', 'i'): 7, ('i', 'n'): 8, ('n', 'g'): 4, ('g', ' '): 4, (' ', 't'): 21, ('y', ' '): 12, (' ', 'w'): 11, ('w', 'a'): 7, ('a', 'n'): 7, ('n', 't'): 2, ('t', 'e'): 11, ('e', 'd'): 4, ('d', ','): 1, (',', ' '): 7, (' ', 'b'): 7, ('b', 'u'): 3, ('u', 't'): 5, ('t', ' '): 17, (' ', 'a'): 14, ('a', 'l'): 3, ('l', 's'): 1, ('s', 'o'): 4, ('o', ' '): 3, ('a', ' '): 4, (' ', 's'): 13, ('s', 'e'): 4, ('e', 'c'): 2, ('c', 'r'): 1, ('r', 'e'): 7, ('e', 't'): 4, ('t', ','): 2, ('n', 'd'): 5, ('e', 'i'): 2, ('i', 'r'): 1, ('r', ' '): 12, (' ', 'g'): 3, ('g', 'r'): 1, ('e', 'a'): 5, ('a', 't'): 5, ('e', 's'): 1, ('s', 't'): 5, (' ', 'f'): 5, ('f', 'e'): 1, ('a', 'r'): 4, ('a', 's'): 7, ('o', 'm'): 1, ('m', 'e'): 2, ('e', 'b'): 1, ('b', 'o'): 4, ('o', 'd'): 3, ('d', 'y'): 1, ('w', 'o'): 2, ('o', 'u'): 6, ('u', 'l'): 3, ('l', 'd'): 4, (' ', 'd'): 4, ('d', 'i'): 4, ('i', 's'): 6, ('s', 'c'): 1, ('c', 'o'): 2, ('o', 'v'): 1, (' ', 'i'): 7, ('i', 't'): 4, ('t', '.'): 3, ('.', ' '): 8, (' ', 'T'): 4, ('i', 'd'): 3, ('d', 'n'): 4, ('n', '’'): 4, ('’', 't'): 4, ('n', 'k'): 2, ('k', ' '): 2, (' ', 'c'): 2, ('b', 'e'): 3, ('i', 'f'): 2, ('f', ' '): 2, ('n', 'y'): 1, ('y', 'o'): 1, ('o', 'n'): 3, ('n', 'e'): 4, ('f', 'o'): 4, ('u', 'n'): 2, (' ', 'o'): 1, ('a', 'b'): 1, (' ', 'P'): 5, ('P', 'o'): 5, ('o', 't'): 7, ('t', 't'): 5, ('s', '.'): 4, (' ', 'M'): 3, ('M', 'r'): 3, ('y', '’'): 1, ('’', 's'): 1, ('s', 'i'): 4, ('r', ','): 2, (' ', 'm'): 2, ('o', 'r'): 4, ('r', 'a'): 1, ('l', ' '): 2, (' ', 'y'): 1, ('y', 'e'): 1, ('s', ';'): 1, (';', ' '): 2, ('n', ' '): 5, ('f', 'a'): 1, ('a', 'c'): 1, ('c', 't'): 1, (' ', 'p'): 2, ('p', 'r'): 1, ('e', 'n'): 3, ('d', 'e'): 2, ('s', 'h'): 3, ('a', 'v'): 1, ('c', 'a'): 1, ('a', 'u'): 1, ('u', 's'): 2, ('g', 'o'): 2, ('o', 'o'): 3, ('d', '-'): 1, ('-', 'f'): 1, ('r', '-'): 1, ('-', 'n'): 1, ('n', 'o'): 2, ('h', 'u'): 2, ('s', 'b'): 1, ('b', 'a'): 1, ('w', 'e'): 1, (' ', 'u'): 1, ('n', 'D'): 1, ('y', 'i'): 1, ('h', ' '): 2, ('p', 'o'): 1, ('o', 's'): 1, ('s', 's'): 1, ('i', 'b'): 1, ('b', 'l'): 1, ('t', 'o'): 3, ('e', '.'): 1, ('u', 'd'): 2, ('d', 'd'): 1, ('w', 'h'): 1, (' ', 'n'): 2, ('i', 'g'): 1, ('g', 'h'): 1, ('h', 'b'): 1, ('s', 'a'): 1, ('a', 'y'): 2, ('r', 'r'): 1, ('r', 'i'): 1, ('i', 'v'): 1, ('t', 'r'): 1, ('e', 'e'): 3, (' ', 'k'): 2, ('k', 'n'): 1, ('e', 'w'): 1, ('w', ' '): 1, ('s', 'm'): 1, ('m', 'a'): 1, ('l', 'l'): 1, ('n', ','): 1, ('o', ','): 1, ('i', 'm'): 1, ('m', '.'): 1, ('o', 'y'): 1, (' ', 'r'): 1, ('k', 'e'): 2, ('e', 'p'): 1, ('p', 'i'): 1, ('a', 'w'): 1, ('y', ';'): 1, ('d', 'l'): 1, ('m', 'i'): 1, ('i', 'x'): 1, ('x', 'i'): 1, ('w', 'i'): 1, ('c', 'h'): 1, ('i', 'l'): 1, (' ', 'l'): 1, ('l', 'i'): 1, ('i', 'k'): 1}\n",
    "\n",
    "max(d, key=lambda item: d[item])"
   ]
  }
 ],
 "metadata": {
  "kernelspec": {
   "display_name": ".venv",
   "language": "python",
   "name": "python3"
  },
  "language_info": {
   "codemirror_mode": {
    "name": "ipython",
    "version": 3
   },
   "file_extension": ".py",
   "mimetype": "text/x-python",
   "name": "python",
   "nbconvert_exporter": "python",
   "pygments_lexer": "ipython3",
   "version": "3.13.5"
  }
 },
 "nbformat": 4,
 "nbformat_minor": 5
}
